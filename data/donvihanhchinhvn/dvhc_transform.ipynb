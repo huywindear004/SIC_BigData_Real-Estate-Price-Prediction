{
 "cells": [
  {
   "cell_type": "code",
   "execution_count": 1,
   "metadata": {},
   "outputs": [],
   "source": [
    "import json\n",
    "import re\n",
    "from unidecode import unidecode\n",
    "import sys"
   ]
  },
  {
   "cell_type": "code",
   "execution_count": 2,
   "metadata": {},
   "outputs": [],
   "source": [
    "def get_place_name(full_name):\n",
    "    # Replace administrative unit strings\n",
    "    no_unit_name = re.sub(\n",
    "        r\"\\A(Thành phố|Tỉnh|Huyện|Quận|Thị xã|Xã|Phường|Thị trấn)\\s\",\n",
    "        \"\",\n",
    "        full_name\n",
    "    )\n",
    "    # Convert 009 -> 9, 0003->3\n",
    "    if no_unit_name.isnumeric():\n",
    "        return str(int(no_unit_name))\n",
    "    return no_unit_name"
   ]
  },
  {
   "cell_type": "code",
   "execution_count": 3,
   "metadata": {},
   "outputs": [],
   "source": [
    "def create_doc(doc_raw):\n",
    "    name = get_place_name(doc_raw['name'])\n",
    "    return {\n",
    "        \"name\": name, \n",
    "        \"alias\": re.sub(r\"[^a-z0-9]\", \"\", unidecode(name.lower())),\n",
    "        \"type\": doc_raw['type']\n",
    "    }"
   ]
  },
  {
   "cell_type": "code",
   "execution_count": 4,
   "metadata": {},
   "outputs": [],
   "source": [
    "def transform(fin_name, fout_name):\n",
    "    with open(fin_name,'r') as json_file:\n",
    "        dvhc_raw = json.load(json_file)['data']\n",
    "\n",
    "    dvhc_res = {}\n",
    "    for level1 in dvhc_raw:\n",
    "        level1_doc = create_doc(level1)\n",
    "        level1_doc['level2s'] = {}\n",
    "        for level2 in level1['level2s']:\n",
    "            level2_doc = create_doc(level2)\n",
    "            level2_doc['level3s'] = {}\n",
    "            for level3 in level2['level3s']:\n",
    "                level2_doc['level3s'][str(int(level3['level3_id']))] = create_doc(level3)\n",
    "\n",
    "            level1_doc['level2s'][str(int(level2['level2_id']))] = level2_doc\n",
    "        dvhc_res[str(int(level1['level1_id']))] = level1_doc\n",
    "    # Write file\n",
    "    with open(fout_name,'w',encoding='utf-8') as out_file:\n",
    "        json.dump(dvhc_res,out_file,indent=4,ensure_ascii=True)"
   ]
  },
  {
   "cell_type": "code",
   "execution_count": 5,
   "metadata": {},
   "outputs": [],
   "source": [
    "transform('./raw/dvhcvn_2020_raw.json', 'dvhcvn_2020.json')\n",
    "transform('./raw/dvhcvn_2024_raw.json', 'dvhcvn_2024.json')"
   ]
  }
 ],
 "metadata": {
  "kernelspec": {
   "display_name": "sic_bigdata_env",
   "language": "python",
   "name": "python3"
  },
  "language_info": {
   "codemirror_mode": {
    "name": "ipython",
    "version": 3
   },
   "file_extension": ".py",
   "mimetype": "text/x-python",
   "name": "python",
   "nbconvert_exporter": "python",
   "pygments_lexer": "ipython3",
   "version": "3.11.9"
  }
 },
 "nbformat": 4,
 "nbformat_minor": 2
}
