{
 "cells": [
  {
   "cell_type": "code",
   "execution_count": 1,
   "metadata": {},
   "outputs": [
    {
     "data": {
      "text/plain": [
       "'d:/PROJECTS/BIGDATA/SIC_BigData_Real-Estate-Price-Prediction'"
      ]
     },
     "execution_count": 1,
     "metadata": {},
     "output_type": "execute_result"
    }
   ],
   "source": [
    "import os\n",
    "import sys\n",
    "curr = os.getcwd()\n",
    "sys.path.insert(0,\"/\".join(i for i in curr.split(\"\\\\\")[:-2]) + '/')\n",
    "'/'.join([i for i in curr.split('\\\\')[:-2]])"
   ]
  },
  {
   "cell_type": "code",
   "execution_count": 1,
   "metadata": {},
   "outputs": [],
   "source": [
    "import sys\n",
    "sys.path.insert(0, 'D:\\PROJECTS\\BIGDATA\\SIC_BigData_Real-Estate-Price-Prediction\\modules\\webscraping')"
   ]
  },
  {
   "cell_type": "code",
   "execution_count": 2,
   "metadata": {},
   "outputs": [],
   "source": [
    "import nhatot_cloudscraper as nc\n",
    "path = \"../../data/nhatot/\""
   ]
  },
  {
   "cell_type": "code",
   "execution_count": 3,
   "metadata": {},
   "outputs": [],
   "source": [
    "nc.run(path,1040,1,50,50,type='Dat')"
   ]
  }
 ],
 "metadata": {
  "kernelspec": {
   "display_name": "sic_bigdata_env",
   "language": "python",
   "name": "python3"
  },
  "language_info": {
   "codemirror_mode": {
    "name": "ipython",
    "version": 3
   },
   "file_extension": ".py",
   "mimetype": "text/x-python",
   "name": "python",
   "nbconvert_exporter": "python",
   "pygments_lexer": "ipython3",
   "version": "3.11.9"
  }
 },
 "nbformat": 4,
 "nbformat_minor": 2
}
