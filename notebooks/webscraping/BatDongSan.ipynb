{
 "cells": [
  {
   "cell_type": "code",
   "execution_count": null,
   "metadata": {},
   "outputs": [],
   "source": [
    "%pip install cloudscraper unidecode bs4"
   ]
  },
  {
   "cell_type": "code",
   "execution_count": 1,
   "metadata": {},
   "outputs": [],
   "source": [
    "from custom_modules import batdongsan_selenium as ss\n",
    "path = \"../../data/batdongsan/\""
   ]
  },
  {
   "cell_type": "markdown",
   "metadata": {},
   "source": [
    "# Chọn 1 trong 3 loại bds"
   ]
  },
  {
   "cell_type": "markdown",
   "metadata": {},
   "source": [
    "## Cào bất động sản chung cư"
   ]
  },
  {
   "cell_type": "code",
   "execution_count": null,
   "metadata": {},
   "outputs": [],
   "source": [
    "ss.multi_threaded_scraping(5,path,'https://batdongsan.com.vn/ban-can-ho-chung-cu/p',1,2,'CanHoChungCu')"
   ]
  },
  {
   "cell_type": "markdown",
   "metadata": {},
   "source": [
    "## Cào bds nhà ở"
   ]
  },
  {
   "cell_type": "code",
   "execution_count": 3,
   "metadata": {},
   "outputs": [
    {
     "name": "stdout",
     "output_type": "stream",
     "text": [
      "Processing:Processing: https://batdongsan.com.vn/ban-nha-dat/p3?dirs=4,5,1,8,3,7,2,6\n",
      " https://batdongsan.com.vn/ban-nha-dat/p2?dirs=4,5,1,8,3,7,2,6\n",
      "Processing: https://batdongsan.com.vn/ban-nha-dat/p4?dirs=4,5,1,8,3,7,2,6\n",
      "Processing: https://batdongsan.com.vn/ban-nha-dat/p5?dirs=4,5,1,8,3,7,2,6\n"
     ]
    }
   ],
   "source": [
    "ss.multi_threaded_scraping(5,path,'https://batdongsan.com.vn/ban-nha-dat/p',2,5,'NhaO','?dirs=4,5,1,8,3,7,2,6')"
   ]
  },
  {
   "cell_type": "markdown",
   "metadata": {},
   "source": [
    "## Cào đất"
   ]
  },
  {
   "cell_type": "code",
   "execution_count": 3,
   "metadata": {},
   "outputs": [
    {
     "name": "stdout",
     "output_type": "stream",
     "text": [
      "Processing: https://batdongsan.com.vn/ban-dat/p1\n"
     ]
    }
   ],
   "source": [
    "ss.multi_threaded_scraping(5,'./','https://batdongsan.com.vn/ban-dat/p',1,1,'Dat')"
   ]
  }
 ],
 "metadata": {
  "kernelspec": {
   "display_name": "sic_bigdata_env",
   "language": "python",
   "name": "python3"
  },
  "language_info": {
   "codemirror_mode": {
    "name": "ipython",
    "version": 3
   },
   "file_extension": ".py",
   "mimetype": "text/x-python",
   "name": "python",
   "nbconvert_exporter": "python",
   "pygments_lexer": "ipython3",
   "version": "3.11.9"
  }
 },
 "nbformat": 4,
 "nbformat_minor": 2
}
