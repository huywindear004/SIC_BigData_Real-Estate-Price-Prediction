{
 "cells": [
  {
   "cell_type": "code",
   "execution_count": null,
   "metadata": {},
   "outputs": [],
   "source": [
    "%pip install cloudscraper unidecode bs4"
   ]
  },
  {
   "cell_type": "code",
   "execution_count": 2,
   "metadata": {},
   "outputs": [],
   "source": [
    "from custom_modules import batdongsan_selenium as ss"
   ]
  },
  {
   "cell_type": "markdown",
   "metadata": {},
   "source": [
    "# Chọn 1 trong 3 loại bds"
   ]
  },
  {
   "cell_type": "markdown",
   "metadata": {},
   "source": [
    "- Mỗi file dataset sẽ chứa khoảng 100x20 collections\n",
    "- Mỗi lần chạy xong 100 trang thì sẽ tự động lưu vào 1 file .json\n",
    "- Mỗi trang chạy khoảng 1 phút để cào 20 collections"
   ]
  },
  {
   "cell_type": "markdown",
   "metadata": {},
   "source": [
    "## Cào bất động sản chung cư"
   ]
  },
  {
   "cell_type": "code",
   "execution_count": 3,
   "metadata": {},
   "outputs": [],
   "source": [
    "path = \"../../data/batdongsan/\""
   ]
  },
  {
   "cell_type": "code",
   "execution_count": 4,
   "metadata": {},
   "outputs": [
    {
     "name": "stdout",
     "output_type": "stream",
     "text": [
      "Processing: https://batdongsan.com.vn/ban-can-ho-chung-cu/p1\n",
      "Processing: https://batdongsan.com.vn/ban-can-ho-chung-cu/p2\n"
     ]
    }
   ],
   "source": [
    "ss.process_multiple_pages(path, 'https://batdongsan.com.vn/ban-can-ho-chung-cu/p',1,2,'CanHoChungCu-dataset')"
   ]
  },
  {
   "cell_type": "markdown",
   "metadata": {},
   "source": [
    "## Cào bds nhà ở"
   ]
  },
  {
   "cell_type": "code",
   "execution_count": 2,
   "metadata": {},
   "outputs": [
    {
     "name": "stdout",
     "output_type": "stream",
     "text": [
      "Processing: https://batdongsan.com.vn/ban-nha-dat/p3344\n"
     ]
    }
   ],
   "source": [
    "ss.process_multiple_pages(path,'https://batdongsan.com.vn/ban-nha-dat/p',3344,3344,'NhaO-dataset')"
   ]
  },
  {
   "cell_type": "markdown",
   "metadata": {},
   "source": [
    "## Cào đất"
   ]
  },
  {
   "cell_type": "code",
   "execution_count": 5,
   "metadata": {},
   "outputs": [
    {
     "name": "stdout",
     "output_type": "stream",
     "text": [
      "Processing: https://batdongsan.com.vn/ban-dat/p152\n",
      "Processing: https://batdongsan.com.vn/ban-dat/p153\n",
      "Processing: https://batdongsan.com.vn/ban-dat/p154\n",
      "Processing: https://batdongsan.com.vn/ban-dat/p155\n",
      "Processing: https://batdongsan.com.vn/ban-dat/p156\n",
      "Processing: https://batdongsan.com.vn/ban-dat/p157\n",
      "Processing: https://batdongsan.com.vn/ban-dat/p158\n",
      "Processing: https://batdongsan.com.vn/ban-dat/p159\n",
      "Processing: https://batdongsan.com.vn/ban-dat/p160\n",
      "Processing: https://batdongsan.com.vn/ban-dat/p161\n",
      "Processing: https://batdongsan.com.vn/ban-dat/p162\n",
      "Processing: https://batdongsan.com.vn/ban-dat/p163\n",
      "Processing: https://batdongsan.com.vn/ban-dat/p164\n",
      "Processing: https://batdongsan.com.vn/ban-dat/p165\n",
      "Processing: https://batdongsan.com.vn/ban-dat/p166\n",
      "Processing: https://batdongsan.com.vn/ban-dat/p167\n",
      "Processing: https://batdongsan.com.vn/ban-dat/p168\n",
      "Processing: https://batdongsan.com.vn/ban-dat/p169\n",
      "Processing: https://batdongsan.com.vn/ban-dat/p170\n",
      "Processing: https://batdongsan.com.vn/ban-dat/p171\n",
      "Processing: https://batdongsan.com.vn/ban-dat/p172\n",
      "Processing: https://batdongsan.com.vn/ban-dat/p173\n",
      "Processing: https://batdongsan.com.vn/ban-dat/p174\n",
      "Processing: https://batdongsan.com.vn/ban-dat/p175\n",
      "Processing: https://batdongsan.com.vn/ban-dat/p176\n",
      "Processing: https://batdongsan.com.vn/ban-dat/p177\n",
      "Processing: https://batdongsan.com.vn/ban-dat/p178\n",
      "Processing: https://batdongsan.com.vn/ban-dat/p179\n",
      "Processing: https://batdongsan.com.vn/ban-dat/p180\n",
      "Processing: https://batdongsan.com.vn/ban-dat/p181\n",
      "Processing: https://batdongsan.com.vn/ban-dat/p182\n",
      "Processing: https://batdongsan.com.vn/ban-dat/p183\n",
      "Processing: https://batdongsan.com.vn/ban-dat/p184\n",
      "Processing: https://batdongsan.com.vn/ban-dat/p185\n",
      "Processing: https://batdongsan.com.vn/ban-dat/p186\n",
      "Processing: https://batdongsan.com.vn/ban-dat/p187\n",
      "Processing: https://batdongsan.com.vn/ban-dat/p188\n",
      "Processing: https://batdongsan.com.vn/ban-dat/p189\n",
      "Processing: https://batdongsan.com.vn/ban-dat/p190\n",
      "Processing: https://batdongsan.com.vn/ban-dat/p191\n",
      "Processing: https://batdongsan.com.vn/ban-dat/p192\n",
      "Processing: https://batdongsan.com.vn/ban-dat/p193\n",
      "Processing: https://batdongsan.com.vn/ban-dat/p194\n",
      "Processing: https://batdongsan.com.vn/ban-dat/p195\n",
      "Processing: https://batdongsan.com.vn/ban-dat/p196\n",
      "Processing: https://batdongsan.com.vn/ban-dat/p197\n",
      "Processing: https://batdongsan.com.vn/ban-dat/p198\n",
      "Processing: https://batdongsan.com.vn/ban-dat/p199\n",
      "Processing: https://batdongsan.com.vn/ban-dat/p200\n",
      "Processing: https://batdongsan.com.vn/ban-dat/p201\n",
      "Processing: https://batdongsan.com.vn/ban-dat/p202\n",
      "Processing: https://batdongsan.com.vn/ban-dat/p203\n",
      "Processing: https://batdongsan.com.vn/ban-dat/p204\n",
      "Processing: https://batdongsan.com.vn/ban-dat/p205\n",
      "Processing: https://batdongsan.com.vn/ban-dat/p206\n",
      "Processing: https://batdongsan.com.vn/ban-dat/p207\n",
      "Processing: https://batdongsan.com.vn/ban-dat/p208\n",
      "Processing: https://batdongsan.com.vn/ban-dat/p209\n",
      "Processing: https://batdongsan.com.vn/ban-dat/p210\n",
      "Processing: https://batdongsan.com.vn/ban-dat/p211\n",
      "Processing: https://batdongsan.com.vn/ban-dat/p212\n",
      "Processing: https://batdongsan.com.vn/ban-dat/p213\n",
      "Processing: https://batdongsan.com.vn/ban-dat/p214\n",
      "Processing: https://batdongsan.com.vn/ban-dat/p215\n",
      "Processing: https://batdongsan.com.vn/ban-dat/p216\n",
      "Processing: https://batdongsan.com.vn/ban-dat/p217\n",
      "Processing: https://batdongsan.com.vn/ban-dat/p218\n",
      "Processing: https://batdongsan.com.vn/ban-dat/p219\n",
      "Processing: https://batdongsan.com.vn/ban-dat/p220\n",
      "Processing: https://batdongsan.com.vn/ban-dat/p221\n",
      "Processing: https://batdongsan.com.vn/ban-dat/p221\n",
      "Processing: https://batdongsan.com.vn/ban-dat/p222\n",
      "Processing: https://batdongsan.com.vn/ban-dat/p223\n",
      "Processing: https://batdongsan.com.vn/ban-dat/p224\n",
      "Processing: https://batdongsan.com.vn/ban-dat/p225\n",
      "Processing: https://batdongsan.com.vn/ban-dat/p226\n",
      "Processing: https://batdongsan.com.vn/ban-dat/p227\n",
      "Processing: https://batdongsan.com.vn/ban-dat/p228\n",
      "Processing: https://batdongsan.com.vn/ban-dat/p229\n",
      "Processing: https://batdongsan.com.vn/ban-dat/p230\n",
      "Processing: https://batdongsan.com.vn/ban-dat/p231\n",
      "Processing: https://batdongsan.com.vn/ban-dat/p232\n",
      "Processing: https://batdongsan.com.vn/ban-dat/p233\n",
      "Processing: https://batdongsan.com.vn/ban-dat/p234\n",
      "Processing: https://batdongsan.com.vn/ban-dat/p235\n",
      "Processing: https://batdongsan.com.vn/ban-dat/p236\n",
      "Processing: https://batdongsan.com.vn/ban-dat/p237\n",
      "Processing: https://batdongsan.com.vn/ban-dat/p238\n",
      "Processing: https://batdongsan.com.vn/ban-dat/p239\n",
      "Processing: https://batdongsan.com.vn/ban-dat/p240\n",
      "Processing: https://batdongsan.com.vn/ban-dat/p241\n",
      "Processing: https://batdongsan.com.vn/ban-dat/p242\n",
      "Processing: https://batdongsan.com.vn/ban-dat/p243\n",
      "Processing: https://batdongsan.com.vn/ban-dat/p244\n",
      "Processing: https://batdongsan.com.vn/ban-dat/p245\n",
      "Processing: https://batdongsan.com.vn/ban-dat/p246\n",
      "Processing: https://batdongsan.com.vn/ban-dat/p247\n",
      "Processing: https://batdongsan.com.vn/ban-dat/p248\n",
      "Processing: https://batdongsan.com.vn/ban-dat/p249\n",
      "Processing: https://batdongsan.com.vn/ban-dat/p250\n",
      "Processing: https://batdongsan.com.vn/ban-dat/p251\n",
      "Processing: https://batdongsan.com.vn/ban-dat/p252\n",
      "Processing: https://batdongsan.com.vn/ban-dat/p253\n",
      "Processing: https://batdongsan.com.vn/ban-dat/p254\n",
      "Processing: https://batdongsan.com.vn/ban-dat/p255\n",
      "Processing: https://batdongsan.com.vn/ban-dat/p256\n",
      "Processing: https://batdongsan.com.vn/ban-dat/p257\n",
      "Processing: https://batdongsan.com.vn/ban-dat/p258\n",
      "Processing: https://batdongsan.com.vn/ban-dat/p259\n",
      "Processing: https://batdongsan.com.vn/ban-dat/p260\n",
      "Processing: https://batdongsan.com.vn/ban-dat/p261\n",
      "Processing: https://batdongsan.com.vn/ban-dat/p262\n",
      "Processing: https://batdongsan.com.vn/ban-dat/p263\n",
      "Processing: https://batdongsan.com.vn/ban-dat/p264\n",
      "Processing: https://batdongsan.com.vn/ban-dat/p265\n",
      "Processing: https://batdongsan.com.vn/ban-dat/p266\n",
      "Processing: https://batdongsan.com.vn/ban-dat/p267\n",
      "Processing: https://batdongsan.com.vn/ban-dat/p268\n",
      "Processing: https://batdongsan.com.vn/ban-dat/p269\n",
      "Processing: https://batdongsan.com.vn/ban-dat/p270\n",
      "Processing: https://batdongsan.com.vn/ban-dat/p271\n",
      "Processing: https://batdongsan.com.vn/ban-dat/p272\n",
      "Processing: https://batdongsan.com.vn/ban-dat/p273\n",
      "Processing: https://batdongsan.com.vn/ban-dat/p274\n",
      "Processing: https://batdongsan.com.vn/ban-dat/p275\n",
      "Processing: https://batdongsan.com.vn/ban-dat/p276\n",
      "Processing: https://batdongsan.com.vn/ban-dat/p277\n",
      "Processing: https://batdongsan.com.vn/ban-dat/p278\n",
      "Processing: https://batdongsan.com.vn/ban-dat/p279\n",
      "Processing: https://batdongsan.com.vn/ban-dat/p280\n",
      "Processing: https://batdongsan.com.vn/ban-dat/p281\n",
      "Processing: https://batdongsan.com.vn/ban-dat/p282\n",
      "Processing: https://batdongsan.com.vn/ban-dat/p283\n",
      "Processing: https://batdongsan.com.vn/ban-dat/p284\n",
      "Processing: https://batdongsan.com.vn/ban-dat/p285\n",
      "Processing: https://batdongsan.com.vn/ban-dat/p286\n",
      "Processing: https://batdongsan.com.vn/ban-dat/p287\n",
      "Processing: https://batdongsan.com.vn/ban-dat/p288\n",
      "Processing: https://batdongsan.com.vn/ban-dat/p289\n",
      "Processing: https://batdongsan.com.vn/ban-dat/p290\n",
      "Processing: https://batdongsan.com.vn/ban-dat/p291\n",
      "Processing: https://batdongsan.com.vn/ban-dat/p292\n",
      "Processing: https://batdongsan.com.vn/ban-dat/p293\n",
      "Processing: https://batdongsan.com.vn/ban-dat/p294\n",
      "Processing: https://batdongsan.com.vn/ban-dat/p295\n",
      "Processing: https://batdongsan.com.vn/ban-dat/p296\n",
      "Processing: https://batdongsan.com.vn/ban-dat/p297\n",
      "Processing: https://batdongsan.com.vn/ban-dat/p298\n",
      "Processing: https://batdongsan.com.vn/ban-dat/p299\n",
      "Processing: https://batdongsan.com.vn/ban-dat/p300\n",
      "Processing: https://batdongsan.com.vn/ban-dat/p301\n",
      "Processing: https://batdongsan.com.vn/ban-dat/p302\n",
      "Processing: https://batdongsan.com.vn/ban-dat/p303\n",
      "Processing: https://batdongsan.com.vn/ban-dat/p304\n",
      "Processing: https://batdongsan.com.vn/ban-dat/p305\n",
      "Processing: https://batdongsan.com.vn/ban-dat/p306\n",
      "Processing: https://batdongsan.com.vn/ban-dat/p307\n",
      "Processing: https://batdongsan.com.vn/ban-dat/p308\n",
      "Processing: https://batdongsan.com.vn/ban-dat/p309\n",
      "Processing: https://batdongsan.com.vn/ban-dat/p310\n",
      "Processing: https://batdongsan.com.vn/ban-dat/p311\n",
      "Processing: https://batdongsan.com.vn/ban-dat/p312\n",
      "Processing: https://batdongsan.com.vn/ban-dat/p313\n",
      "Processing: https://batdongsan.com.vn/ban-dat/p314\n",
      "Processing: https://batdongsan.com.vn/ban-dat/p315\n",
      "Processing: https://batdongsan.com.vn/ban-dat/p316\n",
      "Processing: https://batdongsan.com.vn/ban-dat/p317\n",
      "Processing: https://batdongsan.com.vn/ban-dat/p318\n",
      "Processing: https://batdongsan.com.vn/ban-dat/p319\n",
      "Processing: https://batdongsan.com.vn/ban-dat/p320\n",
      "Processing: https://batdongsan.com.vn/ban-dat/p321\n",
      "Processing: https://batdongsan.com.vn/ban-dat/p322\n",
      "Processing: https://batdongsan.com.vn/ban-dat/p323\n",
      "Processing: https://batdongsan.com.vn/ban-dat/p324\n",
      "Processing: https://batdongsan.com.vn/ban-dat/p325\n",
      "Processing: https://batdongsan.com.vn/ban-dat/p326\n",
      "Processing: https://batdongsan.com.vn/ban-dat/p327\n",
      "Processing: https://batdongsan.com.vn/ban-dat/p328\n",
      "Processing: https://batdongsan.com.vn/ban-dat/p329\n",
      "Processing: https://batdongsan.com.vn/ban-dat/p330\n",
      "Processing: https://batdongsan.com.vn/ban-dat/p331\n",
      "Processing: https://batdongsan.com.vn/ban-dat/p332\n",
      "Processing: https://batdongsan.com.vn/ban-dat/p333\n",
      "Processing: https://batdongsan.com.vn/ban-dat/p334\n",
      "Processing: https://batdongsan.com.vn/ban-dat/p335\n",
      "Processing: https://batdongsan.com.vn/ban-dat/p336\n",
      "Processing: https://batdongsan.com.vn/ban-dat/p337\n",
      "Processing: https://batdongsan.com.vn/ban-dat/p338\n",
      "Processing: https://batdongsan.com.vn/ban-dat/p339\n",
      "Processing: https://batdongsan.com.vn/ban-dat/p340\n",
      "Processing: https://batdongsan.com.vn/ban-dat/p341\n",
      "Processing: https://batdongsan.com.vn/ban-dat/p342\n",
      "Processing: https://batdongsan.com.vn/ban-dat/p343\n",
      "Processing: https://batdongsan.com.vn/ban-dat/p343\n",
      "Processing: https://batdongsan.com.vn/ban-dat/p344\n",
      "Processing: https://batdongsan.com.vn/ban-dat/p345\n",
      "Processing: https://batdongsan.com.vn/ban-dat/p346\n",
      "Processing: https://batdongsan.com.vn/ban-dat/p347\n",
      "Processing: https://batdongsan.com.vn/ban-dat/p348\n",
      "Processing: https://batdongsan.com.vn/ban-dat/p349\n",
      "Processing: https://batdongsan.com.vn/ban-dat/p350\n"
     ]
    }
   ],
   "source": [
    "ss.process_multiple_pages(path,'https://batdongsan.com.vn/ban-dat/p',152,350,'Dat-dataset')"
   ]
  }
 ],
 "metadata": {
  "kernelspec": {
   "display_name": "sic_bigdata_env",
   "language": "python",
   "name": "python3"
  },
  "language_info": {
   "codemirror_mode": {
    "name": "ipython",
    "version": 3
   },
   "file_extension": ".py",
   "mimetype": "text/x-python",
   "name": "python",
   "nbconvert_exporter": "python",
   "pygments_lexer": "ipython3",
   "version": "3.11.9"
  }
 },
 "nbformat": 4,
 "nbformat_minor": 2
}
