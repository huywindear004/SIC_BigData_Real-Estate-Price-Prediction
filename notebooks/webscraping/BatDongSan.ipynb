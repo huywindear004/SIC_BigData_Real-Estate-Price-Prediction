{
 "cells": [
  {
   "cell_type": "code",
   "execution_count": 3,
   "metadata": {},
   "outputs": [
    {
     "name": "stdout",
     "output_type": "stream",
     "text": [
      "Requirement already satisfied: cloudscraper in d:\\app\\code\\anaconda\\anaconda3\\envs\\sic_bigdata_env\\lib\\site-packages (1.2.71)\n",
      "Requirement already satisfied: unidecode in d:\\app\\code\\anaconda\\anaconda3\\envs\\sic_bigdata_env\\lib\\site-packages (1.3.8)\n",
      "Collecting bs4\n",
      "  Using cached bs4-0.0.2-py2.py3-none-any.whl.metadata (411 bytes)\n",
      "Requirement already satisfied: pyparsing>=2.4.7 in d:\\app\\code\\anaconda\\anaconda3\\envs\\sic_bigdata_env\\lib\\site-packages (from cloudscraper) (3.1.2)\n",
      "Requirement already satisfied: requests>=2.9.2 in d:\\app\\code\\anaconda\\anaconda3\\envs\\sic_bigdata_env\\lib\\site-packages (from cloudscraper) (2.31.0)\n",
      "Requirement already satisfied: requests-toolbelt>=0.9.1 in d:\\app\\code\\anaconda\\anaconda3\\envs\\sic_bigdata_env\\lib\\site-packages (from cloudscraper) (1.0.0)\n",
      "Requirement already satisfied: beautifulsoup4 in d:\\app\\code\\anaconda\\anaconda3\\envs\\sic_bigdata_env\\lib\\site-packages (from bs4) (4.12.3)\n",
      "Requirement already satisfied: charset-normalizer<4,>=2 in d:\\app\\code\\anaconda\\anaconda3\\envs\\sic_bigdata_env\\lib\\site-packages (from requests>=2.9.2->cloudscraper) (3.3.2)\n",
      "Requirement already satisfied: idna<4,>=2.5 in d:\\app\\code\\anaconda\\anaconda3\\envs\\sic_bigdata_env\\lib\\site-packages (from requests>=2.9.2->cloudscraper) (3.7)\n",
      "Requirement already satisfied: urllib3<3,>=1.21.1 in d:\\app\\code\\anaconda\\anaconda3\\envs\\sic_bigdata_env\\lib\\site-packages (from requests>=2.9.2->cloudscraper) (2.2.2)\n",
      "Requirement already satisfied: certifi>=2017.4.17 in d:\\app\\code\\anaconda\\anaconda3\\envs\\sic_bigdata_env\\lib\\site-packages (from requests>=2.9.2->cloudscraper) (2024.7.4)\n",
      "Requirement already satisfied: soupsieve>1.2 in d:\\app\\code\\anaconda\\anaconda3\\envs\\sic_bigdata_env\\lib\\site-packages (from beautifulsoup4->bs4) (2.5)\n",
      "Using cached bs4-0.0.2-py2.py3-none-any.whl (1.2 kB)\n",
      "Installing collected packages: bs4\n",
      "Successfully installed bs4-0.0.2\n",
      "Note: you may need to restart the kernel to use updated packages.\n"
     ]
    },
    {
     "name": "stderr",
     "output_type": "stream",
     "text": [
      "\n",
      "[notice] A new release of pip is available: 24.1.1 -> 24.1.2\n",
      "[notice] To update, run: python.exe -m pip install --upgrade pip\n"
     ]
    }
   ],
   "source": [
    "%pip install cloudscraper unidecode bs4"
   ]
  },
  {
   "cell_type": "code",
   "execution_count": 1,
   "metadata": {},
   "outputs": [],
   "source": [
    "from modules import batdongsan_cloudscraper as ss"
   ]
  },
  {
   "cell_type": "markdown",
   "metadata": {},
   "source": [
    "# Chọn 1 trong 3 loại bds"
   ]
  },
  {
   "cell_type": "markdown",
   "metadata": {},
   "source": [
    "## Cào bất động sản chung cư"
   ]
  },
  {
   "cell_type": "code",
   "execution_count": 2,
   "metadata": {},
   "outputs": [],
   "source": [
    "ss.process_multiple_pages('https://batdongsan.com.vn/ban-can-ho-chung-cu/p',1,3,'CanHoChungCu-dataset')"
   ]
  },
  {
   "cell_type": "markdown",
   "metadata": {},
   "source": [
    "## Cào bds nhà ở"
   ]
  },
  {
   "cell_type": "code",
   "execution_count": null,
   "metadata": {},
   "outputs": [],
   "source": [
    "ss.process_multiple_pages('https://batdongsan.com.vn/ban-nha-dat/p',1,3,'NhaO-dataset')"
   ]
  },
  {
   "cell_type": "markdown",
   "metadata": {},
   "source": [
    "## Cào đất"
   ]
  },
  {
   "cell_type": "code",
   "execution_count": null,
   "metadata": {},
   "outputs": [],
   "source": [
    "ss.process_multiple_pages('https://batdongsan.com.vn/ban-dat/p',1,3,'Dat-dataset')"
   ]
  }
 ],
 "metadata": {
  "kernelspec": {
   "display_name": "sic_bigdata_env",
   "language": "python",
   "name": "python3"
  },
  "language_info": {
   "codemirror_mode": {
    "name": "ipython",
    "version": 3
   },
   "file_extension": ".py",
   "mimetype": "text/x-python",
   "name": "python",
   "nbconvert_exporter": "python",
   "pygments_lexer": "ipython3",
   "version": "3.11.9"
  }
 },
 "nbformat": 4,
 "nbformat_minor": 2
}
