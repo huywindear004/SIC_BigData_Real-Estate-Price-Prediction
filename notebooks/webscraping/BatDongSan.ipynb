{
 "cells": [
  {
   "cell_type": "code",
   "execution_count": null,
   "metadata": {},
   "outputs": [],
   "source": [
    "%pip install cloudscraper unidecode bs4"
   ]
  },
  {
   "cell_type": "code",
   "execution_count": 1,
   "metadata": {},
   "outputs": [],
   "source": [
    "from custom_modules import batdongsan_cloudscraper as cs\n",
    "from custom_modules import batdongsan_selenium as ss\n",
    "path = \"../../data/batdongsan/\""
   ]
  },
  {
   "cell_type": "markdown",
   "metadata": {},
   "source": [
    "# Chọn 1 trong 3 loại bds"
   ]
  },
  {
   "cell_type": "markdown",
   "metadata": {},
   "source": [
    "- Mỗi file dataset sẽ chứa khoảng 100x20 documents\n",
    "- Mỗi lần chạy đến số trang chia hết cho 100 thì lưu thành 1 file .json\n",
    "- Mỗi trang chạy khoảng 40s để cào 20 documents"
   ]
  },
  {
   "cell_type": "markdown",
   "metadata": {},
   "source": [
    "## Cào bất động sản chung cư"
   ]
  },
  {
   "cell_type": "code",
   "execution_count": null,
   "metadata": {},
   "outputs": [],
   "source": [
    "cs.process_multiple_pages(path,'https://batdongsan.com.vn/ban-can-ho-chung-cu/p',1,2,'CanHoChungCu')"
   ]
  },
  {
   "cell_type": "markdown",
   "metadata": {},
   "source": [
    "## Cào bds nhà ở"
   ]
  },
  {
   "cell_type": "code",
   "execution_count": null,
   "metadata": {},
   "outputs": [],
   "source": [
    "cs.process_multiple_pages(path,'https://batdongsan.com.vn/ban-nha-dat/p',3344,3344,'NhaO')"
   ]
  },
  {
   "cell_type": "markdown",
   "metadata": {},
   "source": [
    "## Cào đất"
   ]
  },
  {
   "cell_type": "code",
   "execution_count": 2,
   "metadata": {},
   "outputs": [
    {
     "name": "stdout",
     "output_type": "stream",
     "text": [
      "Processing: https://batdongsan.com.vn/ban-dat/p1\n",
      "Processing: https://batdongsan.com.vn/ban-dat/p2\n",
      "Processing: https://batdongsan.com.vn/ban-dat/p3\n",
      "Processing: https://batdongsan.com.vn/ban-dat/p4\n",
      "Processing: https://batdongsan.com.vn/ban-dat/p5\n",
      "Processing: https://batdongsan.com.vn/ban-dat/p6\n",
      "Processing: https://batdongsan.com.vn/ban-dat/p7\n",
      "Processing: https://batdongsan.com.vn/ban-dat/p8\n",
      "Processing: https://batdongsan.com.vn/ban-dat/p9\n",
      "Processing: https://batdongsan.com.vn/ban-dat/p10\n",
      "Processing: https://batdongsan.com.vn/ban-dat/p11\n",
      "Processing: https://batdongsan.com.vn/ban-dat/p12\n",
      "Processing: https://batdongsan.com.vn/ban-dat/p13\n",
      "Processing: https://batdongsan.com.vn/ban-dat/p14\n",
      "Processing: https://batdongsan.com.vn/ban-dat/p15\n",
      "Processing: https://batdongsan.com.vn/ban-dat/p16\n",
      "Processing: https://batdongsan.com.vn/ban-dat/p17\n",
      "Processing: https://batdongsan.com.vn/ban-dat/p18\n",
      "Processing: https://batdongsan.com.vn/ban-dat/p19\n",
      "Processing: https://batdongsan.com.vn/ban-dat/p20\n",
      "Processing: https://batdongsan.com.vn/ban-dat/p21\n",
      "Processing: https://batdongsan.com.vn/ban-dat/p22\n",
      "Processing: https://batdongsan.com.vn/ban-dat/p23\n",
      "Processing: https://batdongsan.com.vn/ban-dat/p24\n",
      "Processing: https://batdongsan.com.vn/ban-dat/p25\n",
      "Processing: https://batdongsan.com.vn/ban-dat/p26\n",
      "Processing: https://batdongsan.com.vn/ban-dat/p27\n",
      "Processing: https://batdongsan.com.vn/ban-dat/p28\n",
      "Processing: https://batdongsan.com.vn/ban-dat/p29\n",
      "Processing: https://batdongsan.com.vn/ban-dat/p30\n",
      "Processing: https://batdongsan.com.vn/ban-dat/p31\n",
      "Processing: https://batdongsan.com.vn/ban-dat/p32\n",
      "Processing: https://batdongsan.com.vn/ban-dat/p33\n",
      "Processing: https://batdongsan.com.vn/ban-dat/p34\n",
      "Processing: https://batdongsan.com.vn/ban-dat/p35\n",
      "Processing: https://batdongsan.com.vn/ban-dat/p36\n",
      "Processing: https://batdongsan.com.vn/ban-dat/p37\n",
      "Processing: https://batdongsan.com.vn/ban-dat/p38\n",
      "Processing: https://batdongsan.com.vn/ban-dat/p39\n",
      "Processing: https://batdongsan.com.vn/ban-dat/p40\n",
      "Processing: https://batdongsan.com.vn/ban-dat/p41\n",
      "Processing: https://batdongsan.com.vn/ban-dat/p42\n",
      "Processing: https://batdongsan.com.vn/ban-dat/p43\n",
      "Processing: https://batdongsan.com.vn/ban-dat/p44\n",
      "Processing: https://batdongsan.com.vn/ban-dat/p45\n",
      "Processing: https://batdongsan.com.vn/ban-dat/p46\n",
      "Processing: https://batdongsan.com.vn/ban-dat/p47\n",
      "Processing: https://batdongsan.com.vn/ban-dat/p48\n",
      "Processing: https://batdongsan.com.vn/ban-dat/p49\n",
      "Processing: https://batdongsan.com.vn/ban-dat/p50\n",
      "Processing: https://batdongsan.com.vn/ban-dat/p51\n",
      "Processing: https://batdongsan.com.vn/ban-dat/p52\n",
      "Processing: https://batdongsan.com.vn/ban-dat/p53\n",
      "Processing: https://batdongsan.com.vn/ban-dat/p54\n",
      "Processing: https://batdongsan.com.vn/ban-dat/p55\n",
      "Processing: https://batdongsan.com.vn/ban-dat/p56\n",
      "Processing: https://batdongsan.com.vn/ban-dat/p57\n",
      "Processing: https://batdongsan.com.vn/ban-dat/p58\n",
      "Processing: https://batdongsan.com.vn/ban-dat/p59\n",
      "Processing: https://batdongsan.com.vn/ban-dat/p60\n",
      "Processing: https://batdongsan.com.vn/ban-dat/p61\n",
      "Processing: https://batdongsan.com.vn/ban-dat/p62\n",
      "Processing: https://batdongsan.com.vn/ban-dat/p63\n",
      "Processing: https://batdongsan.com.vn/ban-dat/p64\n",
      "Processing: https://batdongsan.com.vn/ban-dat/p65\n",
      "Processing: https://batdongsan.com.vn/ban-dat/p66\n",
      "Processing: https://batdongsan.com.vn/ban-dat/p67\n",
      "Processing: https://batdongsan.com.vn/ban-dat/p68\n",
      "Processing: https://batdongsan.com.vn/ban-dat/p69\n",
      "Processing: https://batdongsan.com.vn/ban-dat/p70\n",
      "Processing: https://batdongsan.com.vn/ban-dat/p71\n",
      "Processing: https://batdongsan.com.vn/ban-dat/p72\n",
      "Processing: https://batdongsan.com.vn/ban-dat/p73\n",
      "Processing: https://batdongsan.com.vn/ban-dat/p74\n",
      "Processing: https://batdongsan.com.vn/ban-dat/p75\n",
      "Processing: https://batdongsan.com.vn/ban-dat/p76\n",
      "Processing: https://batdongsan.com.vn/ban-dat/p77\n",
      "Processing: https://batdongsan.com.vn/ban-dat/p78\n",
      "Processing: https://batdongsan.com.vn/ban-dat/p79\n",
      "Processing: https://batdongsan.com.vn/ban-dat/p80\n",
      "Processing: https://batdongsan.com.vn/ban-dat/p81\n",
      "Processing: https://batdongsan.com.vn/ban-dat/p82\n",
      "Processing: https://batdongsan.com.vn/ban-dat/p83\n",
      "Processing: https://batdongsan.com.vn/ban-dat/p84\n",
      "Processing: https://batdongsan.com.vn/ban-dat/p85\n",
      "Processing: https://batdongsan.com.vn/ban-dat/p86\n",
      "Processing: https://batdongsan.com.vn/ban-dat/p87\n",
      "Processing: https://batdongsan.com.vn/ban-dat/p88\n",
      "Processing: https://batdongsan.com.vn/ban-dat/p89\n",
      "Processing: https://batdongsan.com.vn/ban-dat/p90\n",
      "Processing: https://batdongsan.com.vn/ban-dat/p91\n",
      "Processing: https://batdongsan.com.vn/ban-dat/p92\n",
      "Processing: https://batdongsan.com.vn/ban-dat/p93\n",
      "Processing: https://batdongsan.com.vn/ban-dat/p94\n",
      "Processing: https://batdongsan.com.vn/ban-dat/p95\n",
      "Processing: https://batdongsan.com.vn/ban-dat/p96\n",
      "Processing: https://batdongsan.com.vn/ban-dat/p97\n",
      "Processing: https://batdongsan.com.vn/ban-dat/p98\n",
      "Processing: https://batdongsan.com.vn/ban-dat/p99\n",
      "Processing: https://batdongsan.com.vn/ban-dat/p100\n"
     ]
    }
   ],
   "source": [
    "ss.process_multiple_pages(path,'https://batdongsan.com.vn/ban-dat/p',1,100,'Dat')"
   ]
  }
 ],
 "metadata": {
  "kernelspec": {
   "display_name": "sic_bigdata_env",
   "language": "python",
   "name": "python3"
  },
  "language_info": {
   "codemirror_mode": {
    "name": "ipython",
    "version": 3
   },
   "file_extension": ".py",
   "mimetype": "text/x-python",
   "name": "python",
   "nbconvert_exporter": "python",
   "pygments_lexer": "ipython3",
   "version": "3.11.9"
  }
 },
 "nbformat": 4,
 "nbformat_minor": 2
}
