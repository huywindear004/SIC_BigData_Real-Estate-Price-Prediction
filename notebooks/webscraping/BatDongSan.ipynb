{
 "cells": [
  {
   "cell_type": "code",
   "execution_count": null,
   "metadata": {},
   "outputs": [],
   "source": [
    "%pip install cloudscraper unidecode bs4"
   ]
  },
  {
   "cell_type": "code",
   "execution_count": 2,
   "metadata": {},
   "outputs": [],
   "source": [
    "from modules import batdongsan_cloudscraper as ss"
   ]
  },
  {
   "cell_type": "markdown",
   "metadata": {},
   "source": [
    "# Chọn 1 trong 3 loại bds"
   ]
  },
  {
   "cell_type": "markdown",
   "metadata": {},
   "source": [
    "- Mỗi file dataset sẽ chứa khoảng 20x20 collections\n",
    "- Mỗi lần chạy xong 20 trang thì sẽ tự động lưu vào 1 file .json\n",
    "- Mỗi trang chạy khoảng 1 phút để cào 20 collections"
   ]
  },
  {
   "cell_type": "markdown",
   "metadata": {},
   "source": [
    "## Cào bất động sản chung cư"
   ]
  },
  {
   "cell_type": "code",
   "execution_count": 2,
   "metadata": {},
   "outputs": [],
   "source": [
    "ss.process_multiple_pages('https://batdongsan.com.vn/ban-can-ho-chung-cu/p',1,3,'CanHoChungCu-dataset')"
   ]
  },
  {
   "cell_type": "markdown",
   "metadata": {},
   "source": [
    "## Cào bds nhà ở"
   ]
  },
  {
   "cell_type": "code",
   "execution_count": 3,
   "metadata": {},
   "outputs": [
    {
     "name": "stdout",
     "output_type": "stream",
     "text": [
      "Processing: https://batdongsan.com.vn/ban-nha-dat/p1\n",
      "Processing: https://batdongsan.com.vn/ban-nha-dat/p2\n"
     ]
    }
   ],
   "source": [
    "ss.process_multiple_pages('https://batdongsan.com.vn/ban-nha-dat/p',1,2,'NhaO-dataset')"
   ]
  },
  {
   "cell_type": "markdown",
   "metadata": {},
   "source": [
    "## Cào đất"
   ]
  },
  {
   "cell_type": "code",
   "execution_count": null,
   "metadata": {},
   "outputs": [],
   "source": [
    "ss.process_multiple_pages('https://batdongsan.com.vn/ban-dat/p',1,2,'Dat-dataset')"
   ]
  }
 ],
 "metadata": {
  "kernelspec": {
   "display_name": "sic_bigdata_env",
   "language": "python",
   "name": "python3"
  },
  "language_info": {
   "codemirror_mode": {
    "name": "ipython",
    "version": 3
   },
   "file_extension": ".py",
   "mimetype": "text/x-python",
   "name": "python",
   "nbconvert_exporter": "python",
   "pygments_lexer": "ipython3",
   "version": "3.11.9"
  }
 },
 "nbformat": 4,
 "nbformat_minor": 2
}
