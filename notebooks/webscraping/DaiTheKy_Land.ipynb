{
 "cells": [
  {
   "cell_type": "code",
   "execution_count": 10,
   "metadata": {},
   "outputs": [],
   "source": [
    "import numpy as np\n",
    "from selenium import webdriver\n",
    "from selenium.webdriver.chrome.service import Service\n",
    "from selenium.webdriver.chrome.options import Options\n",
    "from time import sleep\n",
    "import random\n",
    "from selenium.common.exceptions import NoSuchElementException, ElementNotInteractableException\n",
    "from selenium.webdriver.common.by import By\n",
    "import pandas as pd"
   ]
  },
  {
   "cell_type": "code",
   "execution_count": 11,
   "metadata": {},
   "outputs": [],
   "source": [
    "# Declare browser\n",
    "options = webdriver.ChromeOptions()\n",
    "chrome_options = Options()\n",
    "service = Service('chromedriver.exe')\n",
    "driver = webdriver.Chrome(service=service, options=chrome_options)\n",
    "# Open URL\n",
    "driver.get(\"https://daitheky.net/properties?keyword=ban%20dat&offset=0&size=12\")\n",
    "sleep(random.randint(5,10))"
   ]
  },
  {
   "cell_type": "code",
   "execution_count": null,
   "metadata": {},
   "outputs": [],
   "source": [
    "count = 1\n",
    "links, title, address = [], [], []\n",
    "while count<=834:\n",
    "    try:\n",
    "        print(\"Crawl links Page \" + str(count))\n",
    "        # ================================ GET link\n",
    "        elems = driver.find_elements(By.CSS_SELECTOR , \".title [href]\")\n",
    "        links += [elem.get_attribute('href') for elem in elems]\n",
    "\n",
    "        # ================================ GET title\n",
    "        elems = driver.find_elements(By.CSS_SELECTOR , \".title\")\n",
    "        title += [elem.text for elem in elems]\n",
    "        # ================================ GET address\n",
    "        elems_address = driver.find_elements(By.CSS_SELECTOR , \".address span\")\n",
    "        address += [elem.text for elem in elems_address]\n",
    "        # ================================ Click Next Page Button\n",
    "        next_page = driver.find_element(\"xpath\", \"/html/body/app-root/div/app-pages/mat-sidenav-container/mat-sidenav-content/main/app-properties/div/div/mat-sidenav-container/mat-sidenav-content/div/div[16]/mat-paginator/div/div/div[2]/button[2]\")\n",
    "        next_page.click()\n",
    "        print(\"Clicked on button next page!\")\n",
    "        sleep(random.randint(4,6))\n",
    "        count += 1\n",
    "    except ElementNotInteractableException:\n",
    "        print(\"Element Not Interactable Exception!\")\n",
    "        break\n",
    "df1 = pd.DataFrame(list(zip(title, address, links)), columns = ['title', 'address', 'item_links'])\n",
    "df1['index_']= np.arange(1, len(df1) + 1)\n"
   ]
  },
  {
   "cell_type": "code",
   "execution_count": null,
   "metadata": {},
   "outputs": [],
   "source": [
    "# ================================ create csv (title, address, item_links)\n",
    "df1.to_csv('LandLinks.csv',index=True)\n",
    "print(\"done\")"
   ]
  },
  {
   "cell_type": "code",
   "execution_count": null,
   "metadata": {},
   "outputs": [],
   "source": [
    "price, typeBDS, facade, area = [], [], [], []\n",
    "for i in range(len(links)):\n",
    "    driver.get(links[i])\n",
    "    sleep(6)\n",
    "    if driver.find_elements(\"xpath\",\"/html/body/app-root/div/app-pages/mat-sidenav-container/mat-sidenav-content/main/app-property/div[1]/div/mat-sidenav-container/mat-sidenav-content/mat-card[4]/div/div[3]/span[2]\"):\n",
    "        # ================================ GET price\n",
    "        elems_price = driver.find_elements(By.CSS_SELECTOR , \".price-value\")\n",
    "        price += [elem.text for elem in elems_price]\n",
    "        # ================================ GET type\n",
    "        elems_typeBDS = driver.find_elements(\"xpath\",\"/html/body/app-root/div/app-pages/mat-sidenav-container/mat-sidenav-content/main/app-property/div[1]/div/mat-sidenav-container/mat-sidenav-content/mat-card[4]/div/div[3]/span[2]\")\n",
    "        typeBDS += [elem.text for elem in elems_typeBDS]    \n",
    "        # ================================ GET facade\n",
    "        elems_facade = driver.find_elements(\"xpath\",\"/html/body/app-root/div/app-pages/mat-sidenav-container/mat-sidenav-content/main/app-property/div[1]/div/mat-sidenav-container/mat-sidenav-content/mat-card[4]/div/div[6]/span[2]\")\n",
    "        facade += [elem.text for elem in elems_facade]\n",
    "        # ================================ GET area\n",
    "        elems_area = driver.find_elements(\"xpath\",\"/html/body/app-root/div/app-pages/mat-sidenav-container/mat-sidenav-content/main/app-property/div[1]/div/mat-sidenav-container/mat-sidenav-content/mat-card[4]/div/div[8]/span[2]\")\n",
    "        area += [elem.text for elem in elems_area]\n",
    "    else:\n",
    "        price += [\"not\"]\n",
    "        typeBDS += [\"not\"]\n",
    "        facade += [\"not\"]\n",
    "        area += [\"not\"]\n",
    "# df2 = pd.DataFrame(list(zip(price, typeBDS, floor, bebroom, facade, wc, area)), columns = ['price', 'real property', 'floor', 'bebroom', 'facade', 'wc', 'area'])\n",
    "# df2['detail_idx']= np.arange(1, len(df2) + 1)"
   ]
  },
  {
   "cell_type": "code",
   "execution_count": 14,
   "metadata": {},
   "outputs": [],
   "source": [
    "df2 = pd.DataFrame(list(zip(price, typeBDS, facade, area)), columns = ['price', 'real property', 'facade', 'area'])\n",
    "df2['detail_idx']= np.arange(1, len(df2) + 1)"
   ]
  },
  {
   "cell_type": "code",
   "execution_count": null,
   "metadata": {},
   "outputs": [],
   "source": [
    "df2"
   ]
  },
  {
   "cell_type": "code",
   "execution_count": 16,
   "metadata": {},
   "outputs": [
    {
     "name": "stdout",
     "output_type": "stream",
     "text": [
      "done csv\n"
     ]
    }
   ],
   "source": [
    "df2.to_csv('LandDetail.csv',index=True)\n",
    "print(\"done csv\")"
   ]
  },
  {
   "cell_type": "code",
   "execution_count": 17,
   "metadata": {},
   "outputs": [],
   "source": [
    "# ================================ link df1 vs df2\n",
    "df3 = df1.merge(df2, how='left', left_on='index_', right_on='detail_idx')\n",
    "# ================================ copy 3239 rows of df3 -> df4\n",
    "df4 = df3.iloc[:3239].copy()\n",
    "# delete rows: detail = 'not'\n",
    "df4 = df4[df4['price'] != 'not']\n",
    "\n",
    "df4 = df4[df4['real property'] != 'Bán nhà riêng']\n",
    "df4 = df4[df4['real property'] != 'Bán nhà mặt phố']\n",
    "df4 = df4[df4['real property'] != 'Bán nhà biệt thự, liền kề']\n",
    "df4 = df4[df4['real property'] != 'Bán căn hộ chung cư']\n",
    "df4 = df4[df4['real property'] != 'Bán kho, nhà xưởng']\n",
    "df4 = df4[df4['real property'] != 'Cho thuê cửa hàng - ki ốt']\n",
    "# ================================ Drop count index\n",
    "df4 = df4.drop(columns=['index_', 'detail_idx','item_links'])"
   ]
  },
  {
   "cell_type": "code",
   "execution_count": null,
   "metadata": {},
   "outputs": [],
   "source": [
    "df4"
   ]
  },
  {
   "cell_type": "code",
   "execution_count": 19,
   "metadata": {},
   "outputs": [
    {
     "name": "stdout",
     "output_type": "stream",
     "text": [
      "done csv\n",
      "done Json\n"
     ]
    }
   ],
   "source": [
    "# ================================ create csv\n",
    "df4.to_csv('LandData.csv',index=True)\n",
    "print(\"done csv\")\n",
    "# ================================ create json\n",
    "df4.to_json('LandData.json', orient='table')\n",
    "print(\"done Json\")"
   ]
  }
 ],
 "metadata": {
  "kernelspec": {
   "display_name": "test",
   "language": "python",
   "name": "python3"
  },
  "language_info": {
   "codemirror_mode": {
    "name": "ipython",
    "version": 3
   },
   "file_extension": ".py",
   "mimetype": "text/x-python",
   "name": "python",
   "nbconvert_exporter": "python",
   "pygments_lexer": "ipython3",
   "version": "3.11.9"
  }
 },
 "nbformat": 4,
 "nbformat_minor": 2
}
