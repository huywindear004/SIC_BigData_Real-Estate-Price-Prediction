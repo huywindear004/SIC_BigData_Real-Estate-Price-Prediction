{
 "cells": [
  {
   "cell_type": "markdown",
   "metadata": {},
   "source": [
    "# Gradient Boosting Machines"
   ]
  },
  {
   "cell_type": "code",
   "execution_count": 11,
   "metadata": {},
   "outputs": [],
   "source": [
    "import pandas as pd\n",
    "from sklearn.ensemble import GradientBoostingRegressor\n",
    "from sklearn.preprocessing import LabelEncoder\n",
    "from sklearn.model_selection import train_test_split\n",
    "from sklearn.metrics import mean_squared_error, r2_score\n",
    "import numpy as np\n",
    "\n",
    "df= pd.read_csv('../../data/batdongsan/numerized/ChungCu_numerized-dataset.csv')\n",
    "df = df.dropna()\n",
    "# df = df.dropna(subset=['MucGia'])\n",
    "df[\"USD\"] = (df[\"MucGia\"]/25400).round(2)\n",
    "# df=df.drop(columns=\"MucGia\")\n",
    "df=df.drop(columns=[\"Unnamed: 0\",\"DiaChi\",\"MucGia\",\"Lat\",\"Long\"])\n"
   ]
  },
  {
   "cell_type": "code",
   "execution_count": 12,
   "metadata": {},
   "outputs": [],
   "source": [
    "X = df.iloc[:, :-1].values  # Các đặc trưng\n",
    "y = df.iloc[:, -1].values  # Biến mục tiêu (USD)"
   ]
  },
  {
   "cell_type": "code",
   "execution_count": 13,
   "metadata": {},
   "outputs": [
    {
     "name": "stdout",
     "output_type": "stream",
     "text": [
      "Mean Squared Error: 341131577.16636544\n",
      "Root Mean Squared Error: 18469.7476205379\n",
      "R-squared: 0.99001458514796\n"
     ]
    }
   ],
   "source": [
    "import pandas as pd\n",
    "import numpy as np\n",
    "from sklearn.ensemble import GradientBoostingRegressor\n",
    "from sklearn.model_selection import train_test_split\n",
    "from sklearn.metrics import mean_squared_error, r2_score\n",
    "# Xử lý dữ liệu số\n",
    "x_numerical = df.select_dtypes(exclude=['object']).values\n",
    "# Split dataset into training and testing sets\n",
    "X_train, X_test, y_train, y_test = train_test_split(x_numerical, y, test_size=0.2, random_state=42)\n",
    "\n",
    "# Initialize the Gradient Boosting Regressor\n",
    "regressor = GradientBoostingRegressor(n_estimators=24, learning_rate=0.1, max_depth=3, random_state=0)\n",
    "\n",
    "# Fit the model\n",
    "regressor.fit(X_train, y_train)\n",
    "\n",
    "# Making predictions on the test data\n",
    "predictions = regressor.predict(X_test)\n",
    "# Evaluating the model\n",
    "mse = mean_squared_error(y_test, predictions)\n",
    "rmse = np.sqrt(mse)\n",
    "r2 = r2_score(y_test, predictions)\n",
    "\n",
    "print(f'Mean Squared Error: {mse}')\n",
    "print(f'Root Mean Squared Error: {rmse}')\n",
    "print(f'R-squared: {r2}')\n"
   ]
  },
  {
   "cell_type": "code",
   "execution_count": 14,
   "metadata": {},
   "outputs": [
    {
     "name": "stdout",
     "output_type": "stream",
     "text": [
      "     Thực tế        Dự đoán\n",
      "0  181102.36  182048.205086\n",
      "1  168307.09  172491.663637\n",
      "2  131889.76  139971.715847\n",
      "3  311023.62  298400.335418\n",
      "4  100393.70  111673.101833\n"
     ]
    }
   ],
   "source": [
    "# So sánh một số giá trị dự đoán với giá trị thực tế\n",
    "comparison = pd.DataFrame({'Thực tế': y_test.flatten(), 'Dự đoán': predictions.flatten()})\n",
    "print(comparison.head())"
   ]
  },
  {
   "cell_type": "code",
   "execution_count": 15,
   "metadata": {},
   "outputs": [
    {
     "name": "stdout",
     "output_type": "stream",
     "text": [
      "Mẫu có phần trăm lệch cao nhất:\n",
      "Thực tế               10196.850000\n",
      "Dự đoán               76325.812628\n",
      "Phần trăm lệch (%)      648.523442\n",
      "Name: 795, dtype: float64\n",
      "\n",
      "Mẫu có phần trăm lệch thấp nhất:\n",
      "Thực tế               1.062992e+06\n",
      "Dự đoán               9.426291e+05\n",
      "Phần trăm lệch (%)   -1.132304e+01\n",
      "Name: 39, dtype: float64\n"
     ]
    }
   ],
   "source": [
    "comparison['Phần trăm lệch (%)'] = ((comparison['Dự đoán'] - comparison['Thực tế']) / comparison['Thực tế']) * 100\n",
    "\n",
    "# Tìm mẫu có phần trăm lệch cao nhất và thấp nhất\n",
    "max_deviation = comparison.loc[comparison['Phần trăm lệch (%)'].idxmax()]\n",
    "min_deviation = comparison.loc[comparison['Phần trăm lệch (%)'].idxmin()]\n",
    "\n",
    "print(\"Mẫu có phần trăm lệch cao nhất:\")\n",
    "print(max_deviation)\n",
    "\n",
    "print(\"\\nMẫu có phần trăm lệch thấp nhất:\")\n",
    "print(min_deviation)"
   ]
  }
 ],
 "metadata": {
  "kernelspec": {
   "display_name": "Python 3",
   "language": "python",
   "name": "python3"
  },
  "language_info": {
   "codemirror_mode": {
    "name": "ipython",
    "version": 3
   },
   "file_extension": ".py",
   "mimetype": "text/x-python",
   "name": "python",
   "nbconvert_exporter": "python",
   "pygments_lexer": "ipython3",
   "version": "3.12.4"
  }
 },
 "nbformat": 4,
 "nbformat_minor": 2
}
