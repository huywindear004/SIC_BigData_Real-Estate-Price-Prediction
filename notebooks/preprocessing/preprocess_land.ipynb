{
 "cells": [
  {
   "cell_type": "code",
   "execution_count": 20,
   "metadata": {},
   "outputs": [],
   "source": [
    "import pandas as pd\n",
    "import numpy as np\n",
    "import json\n",
    "from convert_modules import address_convert as ac,others_convert as oc, number_convert as nc"
   ]
  },
  {
   "cell_type": "code",
   "execution_count": 16,
   "metadata": {},
   "outputs": [],
   "source": [
    "with open(\"../../data/batdongsan/raw/Dat_raw-dataset.json\", \"r\", encoding=\"utf-8\") as file:\n",
    "    data = json.load(file)\n",
    "    df_raw = pd.json_normalize(data)\n",
    "    df_raw.drop_duplicates(inplace=True, ignore_index=True)"
   ]
  },
  {
   "cell_type": "code",
   "execution_count": 17,
   "metadata": {},
   "outputs": [
    {
     "name": "stdout",
     "output_type": "stream",
     "text": [
      "<class 'pandas.core.frame.DataFrame'>\n",
      "RangeIndex: 23891 entries, 0 to 23890\n",
      "Data columns (total 16 columns):\n",
      " #   Column        Non-Null Count  Dtype  \n",
      "---  ------        --------------  -----  \n",
      " 0   DienTich      23890 non-null  object \n",
      " 1   DiaChi        23890 non-null  object \n",
      " 2   City          23890 non-null  object \n",
      " 3   District      23890 non-null  object \n",
      " 4   MucGia        23890 non-null  object \n",
      " 5   MatTien       16077 non-null  object \n",
      " 6   DuongVao      14732 non-null  object \n",
      " 7   PhapLy        19304 non-null  object \n",
      " 8   Lat           22236 non-null  float64\n",
      " 9   Long          22236 non-null  float64\n",
      " 10  HuongNha      8089 non-null   object \n",
      " 11  HuongBanCong  31 non-null     object \n",
      " 12  NoiThat       86 non-null     object \n",
      " 13  SoPhongNgu    63 non-null     object \n",
      " 14  SoTang        61 non-null     object \n",
      " 15  SoToilet      60 non-null     object \n",
      "dtypes: float64(2), object(14)\n",
      "memory usage: 2.9+ MB\n"
     ]
    }
   ],
   "source": [
    "df_raw.info()"
   ]
  },
  {
   "cell_type": "markdown",
   "metadata": {},
   "source": [
    "## Drop những cột không cần thiết"
   ]
  },
  {
   "cell_type": "code",
   "execution_count": 18,
   "metadata": {},
   "outputs": [],
   "source": [
    "df_raw = df_raw.drop(columns=['HuongNha','HuongBanCong','NoiThat','SoPhongNgu','SoTang','SoToilet'])"
   ]
  },
  {
   "cell_type": "code",
   "execution_count": 19,
   "metadata": {},
   "outputs": [
    {
     "name": "stdout",
     "output_type": "stream",
     "text": [
      "<class 'pandas.core.frame.DataFrame'>\n",
      "RangeIndex: 23891 entries, 0 to 23890\n",
      "Data columns (total 10 columns):\n",
      " #   Column    Non-Null Count  Dtype  \n",
      "---  ------    --------------  -----  \n",
      " 0   DienTich  23890 non-null  object \n",
      " 1   DiaChi    23890 non-null  object \n",
      " 2   City      23890 non-null  object \n",
      " 3   District  23890 non-null  object \n",
      " 4   MucGia    23890 non-null  object \n",
      " 5   MatTien   16077 non-null  object \n",
      " 6   DuongVao  14732 non-null  object \n",
      " 7   PhapLy    19304 non-null  object \n",
      " 8   Lat       22236 non-null  float64\n",
      " 9   Long      22236 non-null  float64\n",
      "dtypes: float64(2), object(8)\n",
      "memory usage: 1.8+ MB\n"
     ]
    }
   ],
   "source": [
    "df_raw.info()"
   ]
  },
  {
   "cell_type": "markdown",
   "metadata": {},
   "source": [
    "## Số hóa dữ liệu"
   ]
  },
  {
   "cell_type": "code",
   "execution_count": 21,
   "metadata": {},
   "outputs": [],
   "source": [
    "ac.address_convert_all(df_raw)\n",
    "nc.area_transform(df_raw)\n",
    "nc.price_convert(df_raw)\n",
    "nc.facade_transform(df_raw)\n",
    "nc.way_transform(df_raw)\n",
    "oc.legalty_convert_all(df_raw)"
   ]
  },
  {
   "cell_type": "code",
   "execution_count": 22,
   "metadata": {},
   "outputs": [
    {
     "name": "stdout",
     "output_type": "stream",
     "text": [
      "<class 'pandas.core.frame.DataFrame'>\n",
      "RangeIndex: 23891 entries, 0 to 23890\n",
      "Data columns (total 11 columns):\n",
      " #   Column    Non-Null Count  Dtype  \n",
      "---  ------    --------------  -----  \n",
      " 0   DienTich  23890 non-null  float64\n",
      " 1   DiaChi    23890 non-null  object \n",
      " 2   City      23890 non-null  Int32  \n",
      " 3   District  23882 non-null  Int32  \n",
      " 4   MucGia    20061 non-null  object \n",
      " 5   MatTien   16077 non-null  float64\n",
      " 6   DuongVao  14732 non-null  float64\n",
      " 7   PhapLy    19304 non-null  Int8   \n",
      " 8   Lat       22236 non-null  float64\n",
      " 9   Long      22236 non-null  float64\n",
      " 10  Ward      23670 non-null  Int32  \n",
      "dtypes: Int32(3), Int8(1), float64(5), object(2)\n",
      "memory usage: 1.7+ MB\n"
     ]
    }
   ],
   "source": [
    "df_raw.info()"
   ]
  },
  {
   "cell_type": "markdown",
   "metadata": {},
   "source": [
    "## Lưu ra file"
   ]
  },
  {
   "cell_type": "code",
   "execution_count": 23,
   "metadata": {},
   "outputs": [],
   "source": [
    "df_raw.to_csv('../../data/batdongsan/numerized/Dat_numerized-dataset.csv',False)"
   ]
  }
 ],
 "metadata": {
  "kernelspec": {
   "display_name": "sic_bigdata_env",
   "language": "python",
   "name": "python3"
  },
  "language_info": {
   "codemirror_mode": {
    "name": "ipython",
    "version": 3
   },
   "file_extension": ".py",
   "mimetype": "text/x-python",
   "name": "python",
   "nbconvert_exporter": "python",
   "pygments_lexer": "ipython3",
   "version": "3.11.9"
  }
 },
 "nbformat": 4,
 "nbformat_minor": 2
}
