{
 "cells": [
  {
   "cell_type": "code",
   "execution_count": 1,
   "metadata": {},
   "outputs": [],
   "source": [
    "import pandas as pd\n",
    "import numpy as np\n",
    "import json\n",
    "from convert_modules import address_convert as ac,others_convert as oc, number_convert as nc"
   ]
  },
  {
   "cell_type": "code",
   "execution_count": 2,
   "metadata": {},
   "outputs": [],
   "source": [
    "with open(\"../../data/batdongsan/raw/ChungCu_raw-dataset.json\", \"r\", encoding=\"utf-8\") as land_file:\n",
    "    data = json.load(land_file)\n",
    "    df_raw = pd.json_normalize(data)\n",
    "    df_raw.drop_duplicates(inplace=True, ignore_index=True)"
   ]
  },
  {
   "cell_type": "code",
   "execution_count": 3,
   "metadata": {},
   "outputs": [
    {
     "name": "stdout",
     "output_type": "stream",
     "text": [
      "<class 'pandas.core.frame.DataFrame'>\n",
      "RangeIndex: 22827 entries, 0 to 22826\n",
      "Data columns (total 16 columns):\n",
      " #   Column        Non-Null Count  Dtype  \n",
      "---  ------        --------------  -----  \n",
      " 0   DienTich      22823 non-null  object \n",
      " 1   DiaChi        22826 non-null  object \n",
      " 2   City          22826 non-null  object \n",
      " 3   District      22826 non-null  object \n",
      " 4   MucGia        22826 non-null  object \n",
      " 5   SoPhongNgu    22232 non-null  object \n",
      " 6   SoToilet      21078 non-null  object \n",
      " 7   NoiThat       17514 non-null  object \n",
      " 8   Lat           22793 non-null  float64\n",
      " 9   Long          22793 non-null  float64\n",
      " 10  HuongNha      9178 non-null   object \n",
      " 11  HuongBanCong  10070 non-null  object \n",
      " 12  PhapLy        18335 non-null  object \n",
      " 13  MatTien       20 non-null     object \n",
      " 14  DuongVao      19 non-null     object \n",
      " 15  SoTang        21 non-null     object \n",
      "dtypes: float64(2), object(14)\n",
      "memory usage: 2.8+ MB\n"
     ]
    }
   ],
   "source": [
    "df_raw.info()"
   ]
  },
  {
   "cell_type": "markdown",
   "metadata": {},
   "source": [
    "## Drop Những cột không cần"
   ]
  },
  {
   "cell_type": "code",
   "execution_count": 4,
   "metadata": {},
   "outputs": [],
   "source": [
    "df_raw = df_raw.drop(columns=['SoTang','DuongVao','MatTien'])"
   ]
  },
  {
   "cell_type": "code",
   "execution_count": 5,
   "metadata": {},
   "outputs": [
    {
     "name": "stdout",
     "output_type": "stream",
     "text": [
      "<class 'pandas.core.frame.DataFrame'>\n",
      "RangeIndex: 22827 entries, 0 to 22826\n",
      "Data columns (total 13 columns):\n",
      " #   Column        Non-Null Count  Dtype  \n",
      "---  ------        --------------  -----  \n",
      " 0   DienTich      22823 non-null  object \n",
      " 1   DiaChi        22826 non-null  object \n",
      " 2   City          22826 non-null  object \n",
      " 3   District      22826 non-null  object \n",
      " 4   MucGia        22826 non-null  object \n",
      " 5   SoPhongNgu    22232 non-null  object \n",
      " 6   SoToilet      21078 non-null  object \n",
      " 7   NoiThat       17514 non-null  object \n",
      " 8   Lat           22793 non-null  float64\n",
      " 9   Long          22793 non-null  float64\n",
      " 10  HuongNha      9178 non-null   object \n",
      " 11  HuongBanCong  10070 non-null  object \n",
      " 12  PhapLy        18335 non-null  object \n",
      "dtypes: float64(2), object(11)\n",
      "memory usage: 2.3+ MB\n"
     ]
    }
   ],
   "source": [
    "df_raw.info()"
   ]
  },
  {
   "cell_type": "markdown",
   "metadata": {},
   "source": [
    "## Số hóa dữ liệu"
   ]
  },
  {
   "cell_type": "code",
   "execution_count": 6,
   "metadata": {},
   "outputs": [],
   "source": [
    "ac.address_convert_all(df_raw)\n",
    "oc.direction_convert_all(df_raw,'HuongNha')\n",
    "oc.direction_convert_all(df_raw,'HuongBanCong')\n",
    "oc.furnishment_convert_all(df_raw)\n",
    "oc.legalty_convert_all(df_raw)\n",
    "nc.area_transform(df_raw)\n",
    "nc.bedrooms_transform(df_raw)\n",
    "nc.price_convert(df_raw)\n",
    "nc.toilets_transform(df_raw)"
   ]
  },
  {
   "cell_type": "code",
   "execution_count": 7,
   "metadata": {},
   "outputs": [
    {
     "name": "stdout",
     "output_type": "stream",
     "text": [
      "<class 'pandas.core.frame.DataFrame'>\n",
      "RangeIndex: 22827 entries, 0 to 22826\n",
      "Data columns (total 14 columns):\n",
      " #   Column        Non-Null Count  Dtype  \n",
      "---  ------        --------------  -----  \n",
      " 0   DienTich      22823 non-null  float64\n",
      " 1   DiaChi        22826 non-null  object \n",
      " 2   City          22826 non-null  Int32  \n",
      " 3   District      22726 non-null  Int32  \n",
      " 4   MucGia        20322 non-null  object \n",
      " 5   SoPhongNgu    22232 non-null  float64\n",
      " 6   SoToilet      21078 non-null  float64\n",
      " 7   NoiThat       17514 non-null  Int8   \n",
      " 8   Lat           22793 non-null  float64\n",
      " 9   Long          22793 non-null  float64\n",
      " 10  HuongNha      9178 non-null   Int8   \n",
      " 11  HuongBanCong  10070 non-null  Int8   \n",
      " 12  PhapLy        18335 non-null  Int8   \n",
      " 13  Ward          21960 non-null  Int32  \n",
      "dtypes: Int32(3), Int8(4), float64(5), object(2)\n",
      "memory usage: 1.7+ MB\n"
     ]
    }
   ],
   "source": [
    "df_raw.info()"
   ]
  },
  {
   "cell_type": "markdown",
   "metadata": {},
   "source": [
    "## Lưu ra file"
   ]
  },
  {
   "cell_type": "code",
   "execution_count": 8,
   "metadata": {},
   "outputs": [],
   "source": [
    "df_raw.to_csv('../../data/batdongsan/numerized/ChungCu_numerized-dataset.csv',index=False)"
   ]
  }
 ],
 "metadata": {
  "kernelspec": {
   "display_name": "sic_bigdata_env",
   "language": "python",
   "name": "python3"
  },
  "language_info": {
   "codemirror_mode": {
    "name": "ipython",
    "version": 3
   },
   "file_extension": ".py",
   "mimetype": "text/x-python",
   "name": "python",
   "nbconvert_exporter": "python",
   "pygments_lexer": "ipython3",
   "version": "3.11.9"
  }
 },
 "nbformat": 4,
 "nbformat_minor": 2
}
